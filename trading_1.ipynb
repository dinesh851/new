{
  "nbformat": 4,
  "nbformat_minor": 0,
  "metadata": {
    "colab": {
      "name": "trading 1.ipynb",
      "provenance": [],
      "authorship_tag": "ABX9TyNfl4KW7+esTYDabSHu1o8d",
      "include_colab_link": true
    },
    "kernelspec": {
      "name": "python3",
      "display_name": "Python 3"
    }
  },
  "cells": [
    {
      "cell_type": "markdown",
      "metadata": {
        "id": "view-in-github",
        "colab_type": "text"
      },
      "source": [
        "<a href=\"https://colab.research.google.com/github/dinesh851/new/blob/main/trading_1.ipynb\" target=\"_parent\"><img src=\"https://colab.research.google.com/assets/colab-badge.svg\" alt=\"Open In Colab\"/></a>"
      ]
    },
    {
      "cell_type": "code",
      "metadata": {
        "colab": {
          "base_uri": "https://localhost:8080/"
        },
        "id": "4lyH_2JOYown",
        "outputId": "9859226a-6604-4479-edd7-6fc590b02283"
      },
      "source": [
        "!pip install xlsxwriter\r\n"
      ],
      "execution_count": null,
      "outputs": [
        {
          "output_type": "stream",
          "text": [
            "Requirement already satisfied: xlsxwriter in /usr/local/lib/python3.6/dist-packages (1.3.7)\n"
          ],
          "name": "stdout"
        }
      ]
    },
    {
      "cell_type": "code",
      "metadata": {
        "id": "HkqZXnvyZRSN"
      },
      "source": [
        "\r\n",
        "import numpy as np \r\n",
        "import pandas as pd \r\n",
        "import requests\r\n",
        "import xlsxwriter\r\n",
        "import math\r\n"
      ],
      "execution_count": null,
      "outputs": []
    },
    {
      "cell_type": "code",
      "metadata": {
        "id": "rfrghjQKZS_i"
      },
      "source": [
        "stocks = pd.read_csv('sp_500_stocks.csv')\r\n"
      ],
      "execution_count": null,
      "outputs": []
    },
    {
      "cell_type": "code",
      "metadata": {
        "id": "pHo0Xx1SaODG"
      },
      "source": [
        "IEX_CLOUD_API_TOKEN ='Tpk_059b97af715d417d9f49f50b51b1c448'"
      ],
      "execution_count": null,
      "outputs": []
    },
    {
      "cell_type": "code",
      "metadata": {
        "id": "VU0y-WvLdCeK"
      },
      "source": [
        "symbol='AAPL'\r\n",
        "api_url = f'https://sandbox.iexapis.com/stable/stock/{symbol}/quote?token={IEX_CLOUD_API_TOKEN}'\r\n",
        "data = requests.get(api_url).json()\r\n"
      ],
      "execution_count": null,
      "outputs": []
    },
    {
      "cell_type": "code",
      "metadata": {
        "colab": {
          "base_uri": "https://localhost:8080/"
        },
        "id": "4NjLQBgWjsVJ",
        "outputId": "c01223a1-e525-41b6-ba49-d611f0e6df32"
      },
      "source": [
        "print(data['latestPrice'])\r\n",
        "print(data['marketCap'])\r\n"
      ],
      "execution_count": null,
      "outputs": [
        {
          "output_type": "stream",
          "text": [
            "134.816\n",
            "2254694295787\n"
          ],
          "name": "stdout"
        }
      ]
    },
    {
      "cell_type": "code",
      "metadata": {
        "colab": {
          "base_uri": "https://localhost:8080/"
        },
        "id": "k430eKqDkBh2",
        "outputId": "109983fa-6fa9-4899-d261-f3b8ffb43dee"
      },
      "source": [
        "my_columns = ['Ticker', 'Price','Market Capitalization', 'Number Of Shares to Buy']\r\n",
        "final_dataframe = pd.DataFrame(columns = my_columns)\r\n",
        "print(final_dataframe)"
      ],
      "execution_count": null,
      "outputs": [
        {
          "output_type": "stream",
          "text": [
            "Empty DataFrame\n",
            "Columns: [Ticker, Price, Market Capitalization, Number Of Shares to Buy]\n",
            "Index: []\n"
          ],
          "name": "stdout"
        }
      ]
    },
    {
      "cell_type": "code",
      "metadata": {
        "colab": {
          "base_uri": "https://localhost:8080/",
          "height": 78
        },
        "id": "sgG85ZyEkGkM",
        "outputId": "75a227e4-432d-408b-a1e5-6fdb8bb4ba05"
      },
      "source": [
        "final_dataframe = final_dataframe.append(\r\n",
        "                                        pd.Series(['AAPL', \r\n",
        "                                                   data['latestPrice'], \r\n",
        "                                                   data['marketCap'], \r\n",
        "                                                   'N/A'], \r\n",
        "                                                  index = my_columns), \r\n",
        "                                        ignore_index = True)\r\n",
        "final_dataframe\r\n"
      ],
      "execution_count": null,
      "outputs": [
        {
          "output_type": "execute_result",
          "data": {
            "text/html": [
              "<div>\n",
              "<style scoped>\n",
              "    .dataframe tbody tr th:only-of-type {\n",
              "        vertical-align: middle;\n",
              "    }\n",
              "\n",
              "    .dataframe tbody tr th {\n",
              "        vertical-align: top;\n",
              "    }\n",
              "\n",
              "    .dataframe thead th {\n",
              "        text-align: right;\n",
              "    }\n",
              "</style>\n",
              "<table border=\"1\" class=\"dataframe\">\n",
              "  <thead>\n",
              "    <tr style=\"text-align: right;\">\n",
              "      <th></th>\n",
              "      <th>Ticker</th>\n",
              "      <th>Price</th>\n",
              "      <th>Market Capitalization</th>\n",
              "      <th>Number Of Shares to Buy</th>\n",
              "    </tr>\n",
              "  </thead>\n",
              "  <tbody>\n",
              "    <tr>\n",
              "      <th>0</th>\n",
              "      <td>AAPL</td>\n",
              "      <td>134.816</td>\n",
              "      <td>2254694295787</td>\n",
              "      <td>N/A</td>\n",
              "    </tr>\n",
              "  </tbody>\n",
              "</table>\n",
              "</div>"
            ],
            "text/plain": [
              "  Ticker    Price Market Capitalization Number Of Shares to Buy\n",
              "0   AAPL  134.816         2254694295787                     N/A"
            ]
          },
          "metadata": {
            "tags": []
          },
          "execution_count": 94
        }
      ]
    },
    {
      "cell_type": "code",
      "metadata": {
        "id": "VFFFLRTflVC0"
      },
      "source": [
        "# final_dataframe = pd.DataFrame(columns = my_columns)\r\n",
        "# for symbol in stocks['Ticker']:\r\n",
        "#     api_url = f'https://sandbox.iexapis.com/stable/stock/{symbol}/quote?token={IEX_CLOUD_API_TOKEN}'\r\n",
        "#     data = requests.get(api_url).json()\r\n",
        "#     final_dataframe = final_dataframe.append(\r\n",
        "#                                         pd.Series([symbol, \r\n",
        "#                                                    data['latestPrice'], \r\n",
        "#                                                    data['marketCap'], \r\n",
        "#                                                    'N/A'], \r\n",
        "#                                                   index = my_columns), \r\n",
        "#                                         ignore_index = True)"
      ],
      "execution_count": null,
      "outputs": []
    },
    {
      "cell_type": "code",
      "metadata": {
        "colab": {
          "base_uri": "https://localhost:8080/",
          "height": 78
        },
        "id": "8gzSf--Vl2sG",
        "outputId": "0299b318-794d-4903-80fc-cc10fdf06b23"
      },
      "source": [
        "final_dataframe"
      ],
      "execution_count": null,
      "outputs": [
        {
          "output_type": "execute_result",
          "data": {
            "text/html": [
              "<div>\n",
              "<style scoped>\n",
              "    .dataframe tbody tr th:only-of-type {\n",
              "        vertical-align: middle;\n",
              "    }\n",
              "\n",
              "    .dataframe tbody tr th {\n",
              "        vertical-align: top;\n",
              "    }\n",
              "\n",
              "    .dataframe thead th {\n",
              "        text-align: right;\n",
              "    }\n",
              "</style>\n",
              "<table border=\"1\" class=\"dataframe\">\n",
              "  <thead>\n",
              "    <tr style=\"text-align: right;\">\n",
              "      <th></th>\n",
              "      <th>Ticker</th>\n",
              "      <th>Price</th>\n",
              "      <th>Market Capitalization</th>\n",
              "      <th>Number Of Shares to Buy</th>\n",
              "    </tr>\n",
              "  </thead>\n",
              "  <tbody>\n",
              "    <tr>\n",
              "      <th>0</th>\n",
              "      <td>AAPL</td>\n",
              "      <td>134.816</td>\n",
              "      <td>2254694295787</td>\n",
              "      <td>N/A</td>\n",
              "    </tr>\n",
              "  </tbody>\n",
              "</table>\n",
              "</div>"
            ],
            "text/plain": [
              "  Ticker    Price Market Capitalization Number Of Shares to Buy\n",
              "0   AAPL  134.816         2254694295787                     N/A"
            ]
          },
          "metadata": {
            "tags": []
          },
          "execution_count": 96
        }
      ]
    },
    {
      "cell_type": "code",
      "metadata": {
        "id": "Rr8AAO1JnDpH"
      },
      "source": [
        "def chunks(lst, n):\r\n",
        "    \"\"\"Yield successive n-sized chunks from lst.\"\"\"\r\n",
        "    for i in range(0, len(lst), n):\r\n",
        "        yield lst[i:i + n]"
      ],
      "execution_count": null,
      "outputs": []
    },
    {
      "cell_type": "code",
      "metadata": {
        "colab": {
          "base_uri": "https://localhost:8080/",
          "height": 408
        },
        "id": "CmwVWJnknIXo",
        "outputId": "03297b3a-8fdd-4c69-bbe6-78dea9a7bdc8"
      },
      "source": [
        "symbol_groups = list(chunks(stocks['Ticker'], 100))\r\n",
        "symbol_strings = []\r\n",
        "for i in range(0, len(symbol_groups)):\r\n",
        "    symbol_strings.append(','.join(symbol_groups[i]))\r\n",
        "#     print(symbol_strings[i])\r\n",
        "\r\n",
        "final_dataframe = pd.DataFrame(columns = my_columns)\r\n",
        "\r\n",
        "for symbol_string in symbol_strings:\r\n",
        "#     print(symbol_strings)\r\n",
        "    batch_api_call_url = f'https://sandbox.iexapis.com/stable/stock/market/batch/?types=quote&symbols={symbol_string}&token={IEX_CLOUD_API_TOKEN}'\r\n",
        "    data = requests.get(batch_api_call_url).json()\r\n",
        "    for symbol in symbol_string.split(','):\r\n",
        "        final_dataframe = final_dataframe.append(\r\n",
        "                                        pd.Series([symbol, \r\n",
        "                                                   data[symbol]['quote']['latestPrice'], \r\n",
        "                                                   data[symbol]['quote']['marketCap'], \r\n",
        "                                                   'N/A'], \r\n",
        "                                                  index = my_columns), \r\n",
        "                                        ignore_index = True)\r\n",
        "        \r\n",
        "    \r\n",
        "final_dataframe"
      ],
      "execution_count": null,
      "outputs": [
        {
          "output_type": "execute_result",
          "data": {
            "text/html": [
              "<div>\n",
              "<style scoped>\n",
              "    .dataframe tbody tr th:only-of-type {\n",
              "        vertical-align: middle;\n",
              "    }\n",
              "\n",
              "    .dataframe tbody tr th {\n",
              "        vertical-align: top;\n",
              "    }\n",
              "\n",
              "    .dataframe thead th {\n",
              "        text-align: right;\n",
              "    }\n",
              "</style>\n",
              "<table border=\"1\" class=\"dataframe\">\n",
              "  <thead>\n",
              "    <tr style=\"text-align: right;\">\n",
              "      <th></th>\n",
              "      <th>Ticker</th>\n",
              "      <th>Price</th>\n",
              "      <th>Market Capitalization</th>\n",
              "      <th>Number Of Shares to Buy</th>\n",
              "    </tr>\n",
              "  </thead>\n",
              "  <tbody>\n",
              "    <tr>\n",
              "      <th>0</th>\n",
              "      <td>A</td>\n",
              "      <td>119.567</td>\n",
              "      <td>37905901939</td>\n",
              "      <td>N/A</td>\n",
              "    </tr>\n",
              "    <tr>\n",
              "      <th>1</th>\n",
              "      <td>AAL</td>\n",
              "      <td>15.820</td>\n",
              "      <td>9498689540</td>\n",
              "      <td>N/A</td>\n",
              "    </tr>\n",
              "    <tr>\n",
              "      <th>2</th>\n",
              "      <td>AAP</td>\n",
              "      <td>162.100</td>\n",
              "      <td>10863289929</td>\n",
              "      <td>N/A</td>\n",
              "    </tr>\n",
              "    <tr>\n",
              "      <th>3</th>\n",
              "      <td>AAPL</td>\n",
              "      <td>131.270</td>\n",
              "      <td>2256071134553</td>\n",
              "      <td>N/A</td>\n",
              "    </tr>\n",
              "    <tr>\n",
              "      <th>4</th>\n",
              "      <td>ABBV</td>\n",
              "      <td>108.070</td>\n",
              "      <td>190781204527</td>\n",
              "      <td>N/A</td>\n",
              "    </tr>\n",
              "    <tr>\n",
              "      <th>...</th>\n",
              "      <td>...</td>\n",
              "      <td>...</td>\n",
              "      <td>...</td>\n",
              "      <td>...</td>\n",
              "    </tr>\n",
              "    <tr>\n",
              "      <th>500</th>\n",
              "      <td>YUM</td>\n",
              "      <td>106.050</td>\n",
              "      <td>32347440205</td>\n",
              "      <td>N/A</td>\n",
              "    </tr>\n",
              "    <tr>\n",
              "      <th>501</th>\n",
              "      <td>ZBH</td>\n",
              "      <td>158.190</td>\n",
              "      <td>33426245059</td>\n",
              "      <td>N/A</td>\n",
              "    </tr>\n",
              "    <tr>\n",
              "      <th>502</th>\n",
              "      <td>ZBRA</td>\n",
              "      <td>396.840</td>\n",
              "      <td>20838084015</td>\n",
              "      <td>N/A</td>\n",
              "    </tr>\n",
              "    <tr>\n",
              "      <th>503</th>\n",
              "      <td>ZION</td>\n",
              "      <td>44.228</td>\n",
              "      <td>7315655911</td>\n",
              "      <td>N/A</td>\n",
              "    </tr>\n",
              "    <tr>\n",
              "      <th>504</th>\n",
              "      <td>ZTS</td>\n",
              "      <td>165.070</td>\n",
              "      <td>78495979053</td>\n",
              "      <td>N/A</td>\n",
              "    </tr>\n",
              "  </tbody>\n",
              "</table>\n",
              "<p>505 rows × 4 columns</p>\n",
              "</div>"
            ],
            "text/plain": [
              "    Ticker    Price Market Capitalization Number Of Shares to Buy\n",
              "0        A  119.567           37905901939                     N/A\n",
              "1      AAL   15.820            9498689540                     N/A\n",
              "2      AAP  162.100           10863289929                     N/A\n",
              "3     AAPL  131.270         2256071134553                     N/A\n",
              "4     ABBV  108.070          190781204527                     N/A\n",
              "..     ...      ...                   ...                     ...\n",
              "500    YUM  106.050           32347440205                     N/A\n",
              "501    ZBH  158.190           33426245059                     N/A\n",
              "502   ZBRA  396.840           20838084015                     N/A\n",
              "503   ZION   44.228            7315655911                     N/A\n",
              "504    ZTS  165.070           78495979053                     N/A\n",
              "\n",
              "[505 rows x 4 columns]"
            ]
          },
          "metadata": {
            "tags": []
          },
          "execution_count": 98
        }
      ]
    },
    {
      "cell_type": "code",
      "metadata": {
        "colab": {
          "base_uri": "https://localhost:8080/"
        },
        "id": "1Y0xRIXlo40q",
        "outputId": "08d8ac41-879f-4d1a-f335-c5b2fa93d8dd"
      },
      "source": [
        "\r\n",
        "portfolio_size = input(\"Enter the value of your portfolio:\")\r\n",
        "\r\n",
        "try:\r\n",
        "    val = float(portfolio_size)\r\n",
        "except ValueError:\r\n",
        "    print(\"That's not a number! \\n Try again:\")\r\n",
        "    portfolio_size = input(\"Enter the value of your portfolio:\")"
      ],
      "execution_count": null,
      "outputs": [
        {
          "output_type": "stream",
          "text": [
            "Enter the value of your portfolio:100\n"
          ],
          "name": "stdout"
        }
      ]
    },
    {
      "cell_type": "code",
      "metadata": {
        "colab": {
          "base_uri": "https://localhost:8080/",
          "height": 408
        },
        "id": "PCX1KYRMo-IB",
        "outputId": "4fbc2f3a-3a4c-4271-fed0-84b8a76f776a"
      },
      "source": [
        "position_size = float(portfolio_size) / len(final_dataframe.index)\r\n",
        "for i in range(0, len(final_dataframe['Ticker'])-1):\r\n",
        "    final_dataframe.loc[i, 'Number Of Shares to Buy'] = math.floor(position_size / final_dataframe['Price'][i])\r\n",
        "final_dataframe"
      ],
      "execution_count": null,
      "outputs": [
        {
          "output_type": "execute_result",
          "data": {
            "text/html": [
              "<div>\n",
              "<style scoped>\n",
              "    .dataframe tbody tr th:only-of-type {\n",
              "        vertical-align: middle;\n",
              "    }\n",
              "\n",
              "    .dataframe tbody tr th {\n",
              "        vertical-align: top;\n",
              "    }\n",
              "\n",
              "    .dataframe thead th {\n",
              "        text-align: right;\n",
              "    }\n",
              "</style>\n",
              "<table border=\"1\" class=\"dataframe\">\n",
              "  <thead>\n",
              "    <tr style=\"text-align: right;\">\n",
              "      <th></th>\n",
              "      <th>Ticker</th>\n",
              "      <th>Price</th>\n",
              "      <th>Market Capitalization</th>\n",
              "      <th>Number Of Shares to Buy</th>\n",
              "    </tr>\n",
              "  </thead>\n",
              "  <tbody>\n",
              "    <tr>\n",
              "      <th>0</th>\n",
              "      <td>A</td>\n",
              "      <td>119.567</td>\n",
              "      <td>37905901939</td>\n",
              "      <td>0</td>\n",
              "    </tr>\n",
              "    <tr>\n",
              "      <th>1</th>\n",
              "      <td>AAL</td>\n",
              "      <td>15.820</td>\n",
              "      <td>9498689540</td>\n",
              "      <td>0</td>\n",
              "    </tr>\n",
              "    <tr>\n",
              "      <th>2</th>\n",
              "      <td>AAP</td>\n",
              "      <td>162.100</td>\n",
              "      <td>10863289929</td>\n",
              "      <td>0</td>\n",
              "    </tr>\n",
              "    <tr>\n",
              "      <th>3</th>\n",
              "      <td>AAPL</td>\n",
              "      <td>131.270</td>\n",
              "      <td>2256071134553</td>\n",
              "      <td>0</td>\n",
              "    </tr>\n",
              "    <tr>\n",
              "      <th>4</th>\n",
              "      <td>ABBV</td>\n",
              "      <td>108.070</td>\n",
              "      <td>190781204527</td>\n",
              "      <td>0</td>\n",
              "    </tr>\n",
              "    <tr>\n",
              "      <th>...</th>\n",
              "      <td>...</td>\n",
              "      <td>...</td>\n",
              "      <td>...</td>\n",
              "      <td>...</td>\n",
              "    </tr>\n",
              "    <tr>\n",
              "      <th>500</th>\n",
              "      <td>YUM</td>\n",
              "      <td>106.050</td>\n",
              "      <td>32347440205</td>\n",
              "      <td>0</td>\n",
              "    </tr>\n",
              "    <tr>\n",
              "      <th>501</th>\n",
              "      <td>ZBH</td>\n",
              "      <td>158.190</td>\n",
              "      <td>33426245059</td>\n",
              "      <td>0</td>\n",
              "    </tr>\n",
              "    <tr>\n",
              "      <th>502</th>\n",
              "      <td>ZBRA</td>\n",
              "      <td>396.840</td>\n",
              "      <td>20838084015</td>\n",
              "      <td>0</td>\n",
              "    </tr>\n",
              "    <tr>\n",
              "      <th>503</th>\n",
              "      <td>ZION</td>\n",
              "      <td>44.228</td>\n",
              "      <td>7315655911</td>\n",
              "      <td>0</td>\n",
              "    </tr>\n",
              "    <tr>\n",
              "      <th>504</th>\n",
              "      <td>ZTS</td>\n",
              "      <td>165.070</td>\n",
              "      <td>78495979053</td>\n",
              "      <td>N/A</td>\n",
              "    </tr>\n",
              "  </tbody>\n",
              "</table>\n",
              "<p>505 rows × 4 columns</p>\n",
              "</div>"
            ],
            "text/plain": [
              "    Ticker    Price Market Capitalization Number Of Shares to Buy\n",
              "0        A  119.567           37905901939                       0\n",
              "1      AAL   15.820            9498689540                       0\n",
              "2      AAP  162.100           10863289929                       0\n",
              "3     AAPL  131.270         2256071134553                       0\n",
              "4     ABBV  108.070          190781204527                       0\n",
              "..     ...      ...                   ...                     ...\n",
              "500    YUM  106.050           32347440205                       0\n",
              "501    ZBH  158.190           33426245059                       0\n",
              "502   ZBRA  396.840           20838084015                       0\n",
              "503   ZION   44.228            7315655911                       0\n",
              "504    ZTS  165.070           78495979053                     N/A\n",
              "\n",
              "[505 rows x 4 columns]"
            ]
          },
          "metadata": {
            "tags": []
          },
          "execution_count": 100
        }
      ]
    },
    {
      "cell_type": "code",
      "metadata": {
        "id": "3a9EGRL_vrrA"
      },
      "source": [
        "writer = pd.ExcelWriter('recommended_trades.xlsx', engine='xlsxwriter')\r\n",
        "final_dataframe.to_excel(writer, sheet_name='Recommended Trades', index = False)"
      ],
      "execution_count": null,
      "outputs": []
    },
    {
      "cell_type": "code",
      "metadata": {
        "id": "79DDO6N6vxpq"
      },
      "source": [
        "background_color = '#0a0a23'\r\n",
        "font_color = '#ffffff'\r\n",
        "\r\n",
        "string_format = writer.book.add_format(\r\n",
        "        {\r\n",
        "            'font_color': font_color,\r\n",
        "            'bg_color': background_color,\r\n",
        "            'border': 1\r\n",
        "        }\r\n",
        "    )\r\n",
        "\r\n",
        "dollar_format = writer.book.add_format(\r\n",
        "        {\r\n",
        "            'num_format':'$0.00',\r\n",
        "            'font_color': font_color,\r\n",
        "            'bg_color': background_color,\r\n",
        "            'border': 1\r\n",
        "        }\r\n",
        "    )\r\n",
        "\r\n",
        "integer_format = writer.book.add_format(\r\n",
        "        {\r\n",
        "            'num_format':'0',\r\n",
        "            'font_color': font_color,\r\n",
        "            'bg_color': background_color,\r\n",
        "            'border': 1\r\n",
        "        }\r\n",
        "    )"
      ],
      "execution_count": null,
      "outputs": []
    },
    {
      "cell_type": "code",
      "metadata": {
        "colab": {
          "base_uri": "https://localhost:8080/"
        },
        "id": "LhUMeidUv2jq",
        "outputId": "136942cd-98b1-41ae-925e-d41611cb990d"
      },
      "source": [
        "writer.sheets['Recommended Trades'].set_column('B:B', #This tells the method to apply the format to column B\r\n",
        "                     18, #This tells the method to apply a column width of 18 pixels\r\n",
        "                     string_format #This applies the format 'string_format' to the column\r\n",
        "                    )"
      ],
      "execution_count": null,
      "outputs": [
        {
          "output_type": "execute_result",
          "data": {
            "text/plain": [
              "0"
            ]
          },
          "metadata": {
            "tags": []
          },
          "execution_count": 103
        }
      ]
    },
    {
      "cell_type": "code",
      "metadata": {
        "id": "V7hovsvlv66q"
      },
      "source": [
        "column_formats = { \r\n",
        "                    'A': ['Ticker', string_format],\r\n",
        "                    'B': ['Price', dollar_format],\r\n",
        "                    'C': ['Market Capitalization', dollar_format],\r\n",
        "                    'D': ['Number of Shares to Buy', integer_format]\r\n",
        "                    }\r\n",
        "\r\n",
        "for column in column_formats.keys():\r\n",
        "    writer.sheets['Recommended Trades'].set_column(f'{column}:{column}', 20, column_formats[column][1])\r\n",
        "    writer.sheets['Recommended Trades'].write(f'{column}1', column_formats[column][0], string_format)"
      ],
      "execution_count": null,
      "outputs": []
    },
    {
      "cell_type": "code",
      "metadata": {
        "id": "_6PYtkofv-Ji"
      },
      "source": [
        "dingwriter.save()"
      ],
      "execution_count": null,
      "outputs": []
    }
  ]
}